{
 "cells": [
  {
   "cell_type": "markdown",
   "id": "6c737f84",
   "metadata": {},
   "source": [
    "# Deep Learning in Python Project: Gender Prediction by Name\n",
    "\n",
    "### Lisette Sibbald 13280376, Felice Wulfse 13237071 & Sophie Elting 13316338"
   ]
  },
  {
   "cell_type": "markdown",
   "id": "25cce484",
   "metadata": {},
   "source": [
    "This notebook takes the reader through our project concerning the prediction of gender based on name. \n",
    "We will use an Long Short Term Memory Recurrent Neural Network (LSTM RNN) to learn gender from name. So a binary outcome from character input (based on the names). We have chosen for a LSTM RNN for this task, since names can be thought of as a sequence of characters (and sequences are suited fot a LSTM). Learning from patterns in these sequences could make it possible for a neural network to make predictions.\n",
    "\n",
    "This notebook starts with the data import and inspection, followed by data preparation, followed by model building and training and finally model performance evaluation. "
   ]
  },
  {
   "cell_type": "markdown",
   "id": "10ff0f07",
   "metadata": {},
   "source": [
    "First we will import relevant packages."
   ]
  },
  {
   "cell_type": "code",
   "execution_count": 1,
   "id": "e95adedf",
   "metadata": {},
   "outputs": [
    {
     "name": "stderr",
     "output_type": "stream",
     "text": [
      "Matplotlib is building the font cache; this may take a moment.\n"
     ]
    },
    {
     "name": "stdout",
     "output_type": "stream",
     "text": [
      "import succesful\n"
     ]
    }
   ],
   "source": [
    "from __future__ import print_function\n",
    "\n",
    "from sklearn.preprocessing import OneHotEncoder\n",
    "\n",
    "from keras.layers.core import Dense, Activation, Dropout\n",
    "from keras.preprocessing import sequence\n",
    "from keras.models import Sequential\n",
    "from keras.layers import Dense, Embedding\n",
    "from keras.layers import LSTM\n",
    "from keras.datasets import imdb\n",
    "\n",
    "from matplotlib import pyplot as plt\n",
    "\n",
    "from tensorflow.keras import callbacks\n",
    "\n",
    "import numpy as np\n",
    "import pandas as pd\n",
    "import os\n",
    "import re\n",
    "\n",
    "print(\"import succesful\")"
   ]
  },
  {
   "cell_type": "markdown",
   "id": "0254613e",
   "metadata": {},
   "source": [
    "## Data import and inspection"
   ]
  },
  {
   "cell_type": "markdown",
   "id": "c069f0aa",
   "metadata": {},
   "source": [
    "Next we will import the data set, It comes from https://archive.ics.uci.edu/ml/datasets/Gender+by+Name.\n",
    "It's description states:\n",
    "\n",
    "\"This data set combines raw counts for first/given names of male and female babies in those time periods, and then calculates a probability for a name given the aggregate count. Source datasets are from government authorities: \n",
    "-US: Baby Names from Social Security Card Applications - National Data, 1880 to 2019 \n",
    "-UK: Baby names in England and Wales Statistical bulletins, 2011 to 2018 \n",
    "-Canada: British Columbia 100 Years of Popular Baby names, 1918 to 2018 \n",
    "-Australia: Popular Baby Names, Attorney-General's Department, 1944 to 2019\"\n",
    "\n",
    "There are 147270 names in total. For this project we will be using the \"Name\" and \"Gender\" variable, so we will filter these two variables from the data set. "
   ]
  },
  {
   "cell_type": "code",
   "execution_count": 2,
   "id": "6939b774",
   "metadata": {},
   "outputs": [
    {
     "data": {
      "text/html": [
       "<div>\n",
       "<style scoped>\n",
       "    .dataframe tbody tr th:only-of-type {\n",
       "        vertical-align: middle;\n",
       "    }\n",
       "\n",
       "    .dataframe tbody tr th {\n",
       "        vertical-align: top;\n",
       "    }\n",
       "\n",
       "    .dataframe thead th {\n",
       "        text-align: right;\n",
       "    }\n",
       "</style>\n",
       "<table border=\"1\" class=\"dataframe\">\n",
       "  <thead>\n",
       "    <tr style=\"text-align: right;\">\n",
       "      <th></th>\n",
       "      <th>Name</th>\n",
       "      <th>Gender</th>\n",
       "    </tr>\n",
       "  </thead>\n",
       "  <tbody>\n",
       "    <tr>\n",
       "      <th>0</th>\n",
       "      <td>James</td>\n",
       "      <td>M</td>\n",
       "    </tr>\n",
       "    <tr>\n",
       "      <th>1</th>\n",
       "      <td>John</td>\n",
       "      <td>M</td>\n",
       "    </tr>\n",
       "    <tr>\n",
       "      <th>2</th>\n",
       "      <td>Robert</td>\n",
       "      <td>M</td>\n",
       "    </tr>\n",
       "    <tr>\n",
       "      <th>3</th>\n",
       "      <td>Michael</td>\n",
       "      <td>M</td>\n",
       "    </tr>\n",
       "    <tr>\n",
       "      <th>4</th>\n",
       "      <td>William</td>\n",
       "      <td>M</td>\n",
       "    </tr>\n",
       "  </tbody>\n",
       "</table>\n",
       "</div>"
      ],
      "text/plain": [
       "      Name Gender\n",
       "0    James      M\n",
       "1     John      M\n",
       "2   Robert      M\n",
       "3  Michael      M\n",
       "4  William      M"
      ]
     },
     "execution_count": 2,
     "metadata": {},
     "output_type": "execute_result"
    }
   ],
   "source": [
    "complete = pd.read_csv('name_gender_dataset.csv')\n",
    "\n",
    "complete.head() # inspect the complete data set\n",
    "\n",
    "data = complete[[\"Name\", \"Gender\"]]\n",
    "\n",
    "data.head() # inspect the filtered dataset"
   ]
  },
  {
   "cell_type": "markdown",
   "id": "ec5babee",
   "metadata": {},
   "source": [
    "Next we will do more inspection on our data. We will be counting the number of males and females in the dataset. \n",
    "There are more females than males in our data set, but not problematically more. We think both genders have enough data to train and validate."
   ]
  },
  {
   "cell_type": "code",
   "execution_count": 3,
   "id": "13093cf1",
   "metadata": {},
   "outputs": [
    {
     "data": {
      "text/plain": [
       "Gender\n",
       "F    89749\n",
       "M    57520\n",
       "Name: Name, dtype: int64"
      ]
     },
     "execution_count": 3,
     "metadata": {},
     "output_type": "execute_result"
    }
   ],
   "source": [
    "data.groupby('Gender')['Name'].count()"
   ]
  },
  {
   "cell_type": "markdown",
   "id": "76af7f3b",
   "metadata": {},
   "source": [
    "## Data preparation and one-hot coding"
   ]
  },
  {
   "cell_type": "markdown",
   "id": "0299c767",
   "metadata": {},
   "source": [
    "No we will continue with data preparation. All 'weird' characters that might be included in the names are removed. We will only keep letters, capital letters, letters with accents/umlaut and the special character '-'. "
   ]
  },
  {
   "cell_type": "code",
   "execution_count": 4,
   "id": "c125a4f7",
   "metadata": {},
   "outputs": [
    {
     "name": "stdout",
     "output_type": "stream",
     "text": [
      "['James', 'John', 'Robert', 'Michael', 'William', 'Mary', 'David', 'Joseph', 'Richard', 'Charles', 'Thomas', 'Christopher', 'Daniel', 'Matthew', 'Elizabeth', 'Patricia', 'Jennifer', 'Anthony', 'George', 'Linda']\n"
     ]
    }
   ],
   "source": [
    "names = data['Name']\n",
    "gender = data['Gender']\n",
    "\n",
    "names_cleaned = []\n",
    "for i in range(len(names)): # keep only the following characters in the names, delete all other characters\n",
    "    names_cleaned.append(re.sub('[^a-zA-ZÀ-ÿ\\-]', '', names[i]))\n",
    "\n",
    "print(names_cleaned[0:20]) # inspect cleaned names"
   ]
  },
  {
   "cell_type": "markdown",
   "id": "9e38523e",
   "metadata": {},
   "source": [
    "Next we need to be able to transform the names to model input. In our case, one-hot coding for the LSTM. For this we need the present characters in the data set. \n",
    "'END' is added to vocab, since we will be using 'END' later for solving input problems. More is explained later.\n",
    "Code base retrieved from Deepak Babu (2016)."
   ]
  },
  {
   "cell_type": "code",
   "execution_count": 5,
   "id": "1bdcad31",
   "metadata": {},
   "outputs": [],
   "source": [
    "vocab = set(' '.join([str(i) for i in names_cleaned])) # get all individual, distinct characters\n",
    "vocab.add('END') # add 'END' to vocab\n",
    "len_vocab = len(vocab)"
   ]
  },
  {
   "cell_type": "code",
   "execution_count": 6,
   "id": "e9721a61",
   "metadata": {},
   "outputs": [
    {
     "name": "stdout",
     "output_type": "stream",
     "text": [
      "{'l', '-', 'C', 'o', 'z', 'g', 'P', 'w', 'J', 'G', 'Y', 'E', 'U', 'd', 'e', 'M', 'END', 'I', 'T', 'x', 'L', 'Z', 'N', 'k', ' ', 'à', 'h', 's', 'm', 'p', 'v', 'ö', 't', 'X', 'y', 'u', 'R', 'r', 'i', 'H', 'F', 'S', 'D', 'q', 'Q', 'K', 'a', 'W', 'B', 'n', 'O', 'c', 'f', 'V', 'j', 'A', 'b'}\n",
      "vocab length is  57\n",
      "number of names  147269\n"
     ]
    }
   ],
   "source": [
    "print(vocab)\n",
    "print(\"vocab length is \",len_vocab)\n",
    "print (\"number of names \",len(data))"
   ]
  },
  {
   "cell_type": "markdown",
   "id": "8ea51b3c",
   "metadata": {},
   "source": [
    "So there are 57 characters in our vocabulary and still 147269 names."
   ]
  },
  {
   "cell_type": "markdown",
   "id": "d89fdf1f",
   "metadata": {},
   "source": [
    "Next we will need to give every character a number as preparation for the one-hot coding. Code base retrieved from Deepak Babu (2016)."
   ]
  },
  {
   "cell_type": "code",
   "execution_count": 7,
   "id": "af6d8fc9",
   "metadata": {},
   "outputs": [],
   "source": [
    "char_index = dict((c, i) for i, c in enumerate(vocab)) # create a dictionary with the elements of vocab and a number."
   ]
  },
  {
   "cell_type": "code",
   "execution_count": 8,
   "id": "3a2c18b0",
   "metadata": {},
   "outputs": [
    {
     "name": "stdout",
     "output_type": "stream",
     "text": [
      "{'l': 0, '-': 1, 'C': 2, 'o': 3, 'z': 4, 'g': 5, 'P': 6, 'w': 7, 'J': 8, 'G': 9, 'Y': 10, 'E': 11, 'U': 12, 'd': 13, 'e': 14, 'M': 15, 'END': 16, 'I': 17, 'T': 18, 'x': 19, 'L': 20, 'Z': 21, 'N': 22, 'k': 23, ' ': 24, 'à': 25, 'h': 26, 's': 27, 'm': 28, 'p': 29, 'v': 30, 'ö': 31, 't': 32, 'X': 33, 'y': 34, 'u': 35, 'R': 36, 'r': 37, 'i': 38, 'H': 39, 'F': 40, 'S': 41, 'D': 42, 'q': 43, 'Q': 44, 'K': 45, 'a': 46, 'W': 47, 'B': 48, 'n': 49, 'O': 50, 'c': 51, 'f': 52, 'V': 53, 'j': 54, 'A': 55, 'b': 56}\n"
     ]
    },
    {
     "data": {
      "text/plain": [
       "57"
      ]
     },
     "execution_count": 8,
     "metadata": {},
     "output_type": "execute_result"
    }
   ],
   "source": [
    "print(char_index) # inspect the index with their corresponding characters\n",
    "len(char_index)"
   ]
  },
  {
   "cell_type": "markdown",
   "id": "d351cced",
   "metadata": {},
   "source": [
    "Before the next step of creating input we will first create a test and train set. We will go for a 80% train set and 20% test split. Code base retrieved from Deepak Babu (2016)."
   ]
  },
  {
   "cell_type": "code",
   "execution_count": 9,
   "id": "771ce626",
   "metadata": {},
   "outputs": [],
   "source": [
    "#train test split\n",
    "msk = np.random.rand(len(data)) < 0.8\n",
    "train = data[msk]\n",
    "test = data[~msk]"
   ]
  },
  {
   "cell_type": "markdown",
   "id": "91132a3c",
   "metadata": {},
   "source": [
    "Next we will use the vocabulary library we created before to tranform every name to a set of numbers. All names that consist of less characters than the longest name will get filled up untill they reach the length of the longest name with the number that corresponds to 'END'. Code base retrieved from Deepak Babu (2016)."
   ]
  },
  {
   "cell_type": "code",
   "execution_count": 59,
   "id": "b817e182",
   "metadata": {},
   "outputs": [
    {
     "name": "stdout",
     "output_type": "stream",
     "text": [
      "25\n"
     ]
    },
    {
     "data": {
      "text/plain": [
       "[[8,\n",
       "  3,\n",
       "  26,\n",
       "  49,\n",
       "  16,\n",
       "  16,\n",
       "  16,\n",
       "  16,\n",
       "  16,\n",
       "  16,\n",
       "  16,\n",
       "  16,\n",
       "  16,\n",
       "  16,\n",
       "  16,\n",
       "  16,\n",
       "  16,\n",
       "  16,\n",
       "  16,\n",
       "  16,\n",
       "  16,\n",
       "  16,\n",
       "  16,\n",
       "  16,\n",
       "  16],\n",
       " [36,\n",
       "  3,\n",
       "  56,\n",
       "  14,\n",
       "  37,\n",
       "  32,\n",
       "  16,\n",
       "  16,\n",
       "  16,\n",
       "  16,\n",
       "  16,\n",
       "  16,\n",
       "  16,\n",
       "  16,\n",
       "  16,\n",
       "  16,\n",
       "  16,\n",
       "  16,\n",
       "  16,\n",
       "  16,\n",
       "  16,\n",
       "  16,\n",
       "  16,\n",
       "  16,\n",
       "  16]]"
      ]
     },
     "execution_count": 59,
     "metadata": {},
     "output_type": "execute_result"
    }
   ],
   "source": [
    "long_name = max(names, key = len)\n",
    "maxlen = len(long_name)\n",
    "print(maxlen)\n",
    "\n",
    "train_X = []\n",
    "\n",
    "trunc_train_name = [str(i)[0:maxlen] for i in train.Name]\n",
    "\n",
    "# loop zorgt voor nummertjes voor elke naam (7 = END vult ie aan tot 30)\n",
    "for i in trunc_train_name: # i = naam\n",
    "    tmp = [char_index.get(j, []) for j in str(i)] # j = los character\n",
    "    for k in range(0, maxlen - len(str(i))):\n",
    "        tmp.append(char_index['END'])\n",
    "    train_X.append(tmp)\n",
    "\n",
    "train_X[0:2]"
   ]
  },
  {
   "cell_type": "code",
   "execution_count": 11,
   "id": "8dfe2147",
   "metadata": {},
   "outputs": [
    {
     "name": "stderr",
     "output_type": "stream",
     "text": [
      "/Users/LisetteSibbald/opt/anaconda3/lib/python3.9/site-packages/numpy/core/_asarray.py:102: VisibleDeprecationWarning: Creating an ndarray from ragged nested sequences (which is a list-or-tuple of lists-or-tuples-or ndarrays with different lengths or shapes) is deprecated. If you meant to do this, you must specify 'dtype=object' when creating the ndarray.\n",
      "  return array(a, dtype, copy=False, order=order)\n"
     ]
    },
    {
     "data": {
      "text/plain": [
       "(117551, 25)"
      ]
     },
     "execution_count": 11,
     "metadata": {},
     "output_type": "execute_result"
    }
   ],
   "source": [
    "np.asarray(train_X).shape # inspect the shape of the training set, as you can see, 25 is the length of the longest name"
   ]
  },
  {
   "cell_type": "markdown",
   "id": "a7a27b3a",
   "metadata": {},
   "source": [
    "Here a function is defined to help with the one-hot coding. For that we want every number we now have assigned to get a 1 if its present, and a 0 when it's not present in a name.\n",
    "The set_flag function will take a certain index and put a 1 in the place of that index and tranform the other values to 0. Code base retrieved from Deepak Babu (2016)."
   ]
  },
  {
   "cell_type": "code",
   "execution_count": 12,
   "id": "84948ae7",
   "metadata": {},
   "outputs": [],
   "source": [
    "def set_flag(i):\n",
    "    tmp = np.zeros(57);\n",
    "    tmp[i] = 1\n",
    "    return(tmp)"
   ]
  },
  {
   "cell_type": "code",
   "execution_count": 13,
   "id": "b47b2b35",
   "metadata": {},
   "outputs": [
    {
     "data": {
      "text/plain": [
       "array([0., 0., 0., 1., 0., 0., 0., 0., 0., 0., 0., 0., 0., 0., 0., 0., 0.,\n",
       "       0., 0., 0., 0., 0., 0., 0., 0., 0., 0., 0., 0., 0., 0., 0., 0., 0.,\n",
       "       0., 0., 0., 0., 0., 0., 0., 0., 0., 0., 0., 0., 0., 0., 0., 0., 0.,\n",
       "       0., 0., 0., 0., 0., 0.])"
      ]
     },
     "execution_count": 13,
     "metadata": {},
     "output_type": "execute_result"
    }
   ],
   "source": [
    "set_flag(3) # inspect function output"
   ]
  },
  {
   "cell_type": "markdown",
   "id": "c3fb2310",
   "metadata": {},
   "source": [
    "Now we will use the previously defined set_flag function to tranform the training data to one-hot coding, and male and female to 1 and 0 respectively. Code base retrieved from Deepak Babu (2016)."
   ]
  },
  {
   "cell_type": "code",
   "execution_count": 14,
   "id": "a26a199b",
   "metadata": {
    "scrolled": true
   },
   "outputs": [],
   "source": [
    "# take input upto max and truncate rest\n",
    "# encode to vector space(one hot encoding)\n",
    "# padd 'END' to shorter sequences\n",
    "# also convert each index to one-hot encoding\n",
    "train_X = []\n",
    "train_Y = []\n",
    "\n",
    "trunc_train_name = [str(i)[0:maxlen] for i in train.Name]\n",
    "\n",
    "for i in trunc_train_name:\n",
    "    tmp = [set_flag(char_index.get(j, [])) for j in str(i)]\n",
    "    for k in range(0,maxlen - len(str(i))):\n",
    "        tmp.append(set_flag(char_index[\"END\"]))\n",
    "    train_X.append(tmp)\n",
    "    \n",
    "for i in train.Gender:\n",
    "    if i == 'M':\n",
    "        train_Y.append([1,0])\n",
    "    else:\n",
    "        train_Y.append([0,1])\n",
    "    "
   ]
  },
  {
   "cell_type": "code",
   "execution_count": 15,
   "id": "2a8db448",
   "metadata": {},
   "outputs": [
    {
     "data": {
      "text/plain": [
       "(117551, 25, 57)"
      ]
     },
     "execution_count": 15,
     "metadata": {},
     "output_type": "execute_result"
    }
   ],
   "source": [
    "np.asarray(train_X).shape # inspect shape, dimensions are right\n",
    "np.asarray(train_Y).shape # again inspect shape, dimensions are right"
   ]
  },
  {
   "cell_type": "markdown",
   "id": "7fe5feb0",
   "metadata": {},
   "source": [
    "We will do the same with our test set. Code base retrieved from Deepak Babu (2016)."
   ]
  },
  {
   "cell_type": "code",
   "execution_count": 61,
   "id": "69091234",
   "metadata": {},
   "outputs": [],
   "source": [
    "test_X = []\n",
    "test_Y = []\n",
    "trunc_test_name = [str(i)[0:maxlen] for i in test.Name]\n",
    "for i in trunc_test_name:\n",
    "    tmp = [set_flag(char_index.get(j, [])) for j in str(i)]\n",
    "    for k in range(0,maxlen - len(str(i))):\n",
    "        tmp.append(set_flag(char_index[\"END\"]))\n",
    "    test_X.append(tmp)\n",
    "for i in test.Gender:\n",
    "    if i == 'M':\n",
    "        test_Y.append([1,0])\n",
    "    else:\n",
    "        test_Y.append([0,1])"
   ]
  },
  {
   "cell_type": "code",
   "execution_count": 21,
   "id": "720befe5",
   "metadata": {},
   "outputs": [
    {
     "name": "stdout",
     "output_type": "stream",
     "text": [
      "(29718, 25, 57)\n",
      "(29718, 2)\n"
     ]
    }
   ],
   "source": [
    "print(np.asarray(test_X).shape)\n",
    "print(np.asarray(test_Y).shape)"
   ]
  },
  {
   "cell_type": "markdown",
   "id": "221a0084",
   "metadata": {},
   "source": [
    "## Model building"
   ]
  },
  {
   "cell_type": "markdown",
   "id": "17cece0f",
   "metadata": {},
   "source": [
    "Before building the model we will define an early stopping element. We will let our model run for a maximum of 50 epochs, but to prevent overfitting we will introduce early stopping that will stop when model performance is going down. To be more sure that we will not stop in a local minimum, we will keep a patience of 5 epochs. "
   ]
  },
  {
   "cell_type": "code",
   "execution_count": 17,
   "id": "e6e532a2",
   "metadata": {},
   "outputs": [],
   "source": [
    "from tensorflow.keras import callbacks\n",
    "\n",
    "early_stopping = callbacks.EarlyStopping(\n",
    "    min_delta=0.001, # minimium amount of change to count as an improvement\n",
    "    patience=5, # how many epochs to wait before stopping\n",
    "    restore_best_weights=True,\n",
    ")"
   ]
  },
  {
   "cell_type": "markdown",
   "id": "54f346f1",
   "metadata": {},
   "source": [
    "For model building, we started out with a 2 stacked LSTM model, with 512 nodes in each layer together with 2 dropout layers with 0.2 dropout (to help with prevent overfitting). With that, we used softmax activation (because of our categorical output), used categorical crossentropy as a loss function, and the adam optimizer.\n",
    "\n",
    "We have tried to tune our first model by using different settings and specifications in the model. For this, we have used a subset of our total data (n = 20000), in order to speed up the model training and thus enable us to test more options.\n",
    "\n",
    "First, we have tried using less nodes (114 and 221 nodes) to see if that would increase test accuracy and test loss. Less nodes in the first layer would decrease variance in our model. With this we tried to find the optimal balance between variance and bias, because with a lot of nodes there is a more variance and with less nodes more bias. Perhaps our model had too much variance and could benefit from adding more bias instead of variance.\n",
    "It ended up that both did not improve our accuracy and therefore we kept the 512 nodes. \n",
    "\n",
    "Next to that we have have tried out adding another layer. It turned out that adding one layer with 512 nodes together with a dropout layer with 0.5 dropout improved the accuracy of our model. The higher dropout would help with overfitting, since the model is 'forced' to find more general, robust patterns. \n",
    "\n",
    "With this, we ended up with our final model below. A 3 layered LSTM RNN model with 512 nodes per layer, 2 dropout layers with 0.2 dropout and a last dropout layer with 0.5 dropout. We decided to keep using the softmax activation, the categorical crossentropy as a loss function and the adam optimizer. Code base retrieved from Deepak Babu (2016)."
   ]
  },
  {
   "cell_type": "code",
   "execution_count": 62,
   "id": "6533468c",
   "metadata": {},
   "outputs": [
    {
     "name": "stdout",
     "output_type": "stream",
     "text": [
      "Model build\n"
     ]
    }
   ],
   "source": [
    "model = Sequential()\n",
    "model.add(LSTM(512, return_sequences=True, input_shape=(maxlen,len_vocab)))\n",
    "model.add(Dropout(0.2))\n",
    "model.add(LSTM(512, return_sequences=True))\n",
    "model.add(Dropout(0.2))\n",
    "model.add(LSTM(512, return_sequences=False))\n",
    "model.add(Dropout(0.5))\n",
    "model.add(Dense(2))\n",
    "model.add(Activation('softmax'))\n",
    "model.compile(loss='categorical_crossentropy', optimizer='adam', metrics=['accuracy'])\n",
    "print('Model build')"
   ]
  },
  {
   "cell_type": "markdown",
   "id": "e8112f18",
   "metadata": {},
   "source": [
    "## Model training\n",
    "Code base retrieved from Deepak Babu (2016)."
   ]
  },
  {
   "cell_type": "code",
   "execution_count": 22,
   "id": "efb56b50",
   "metadata": {},
   "outputs": [],
   "source": [
    "# transform to a Numpy array as a requirement for model.fit\n",
    "train_X = np.asarray(train_X)\n",
    "train_Y = np.asarray(train_Y)\n",
    "test_X = np.asarray(test_X)\n",
    "test_Y = np.asarray(test_Y)"
   ]
  },
  {
   "cell_type": "code",
   "execution_count": 23,
   "id": "6b176138",
   "metadata": {},
   "outputs": [
    {
     "name": "stdout",
     "output_type": "stream",
     "text": [
      "Epoch 1/50\n",
      "118/118 [==============================] - 1483s 13s/step - loss: 0.5781 - accuracy: 0.6965 - val_loss: 0.5281 - val_accuracy: 0.7365\n",
      "Epoch 2/50\n",
      "118/118 [==============================] - 1407s 12s/step - loss: 0.5083 - accuracy: 0.7553 - val_loss: 0.4801 - val_accuracy: 0.7749\n",
      "Epoch 3/50\n",
      "118/118 [==============================] - 1410s 12s/step - loss: 0.4763 - accuracy: 0.7748 - val_loss: 0.4672 - val_accuracy: 0.7817\n",
      "Epoch 4/50\n",
      "118/118 [==============================] - 1401s 12s/step - loss: 0.4609 - accuracy: 0.7857 - val_loss: 0.4556 - val_accuracy: 0.7888\n",
      "Epoch 5/50\n",
      "118/118 [==============================] - 1408s 12s/step - loss: 0.4493 - accuracy: 0.7922 - val_loss: 0.4506 - val_accuracy: 0.7902\n",
      "Epoch 6/50\n",
      "118/118 [==============================] - 1455s 12s/step - loss: 0.4427 - accuracy: 0.7956 - val_loss: 0.4440 - val_accuracy: 0.7956\n",
      "Epoch 7/50\n",
      "118/118 [==============================] - 1409s 12s/step - loss: 0.4353 - accuracy: 0.7991 - val_loss: 0.4407 - val_accuracy: 0.7943\n",
      "Epoch 8/50\n",
      "118/118 [==============================] - 1401s 12s/step - loss: 0.4274 - accuracy: 0.8037 - val_loss: 0.4337 - val_accuracy: 0.8006\n",
      "Epoch 9/50\n",
      "118/118 [==============================] - 1395s 12s/step - loss: 0.4217 - accuracy: 0.8074 - val_loss: 0.4281 - val_accuracy: 0.8035\n",
      "Epoch 10/50\n",
      "118/118 [==============================] - 1394s 12s/step - loss: 0.4171 - accuracy: 0.8097 - val_loss: 0.4280 - val_accuracy: 0.8045\n",
      "Epoch 11/50\n",
      "118/118 [==============================] - 1410s 12s/step - loss: 0.4108 - accuracy: 0.8125 - val_loss: 0.4245 - val_accuracy: 0.8040\n",
      "Epoch 12/50\n",
      "118/118 [==============================] - 1396s 12s/step - loss: 0.4055 - accuracy: 0.8161 - val_loss: 0.4184 - val_accuracy: 0.8080\n",
      "Epoch 13/50\n",
      "118/118 [==============================] - 1398s 12s/step - loss: 0.4017 - accuracy: 0.8180 - val_loss: 0.4166 - val_accuracy: 0.8091\n",
      "Epoch 14/50\n",
      "118/118 [==============================] - 1397s 12s/step - loss: 0.3975 - accuracy: 0.8205 - val_loss: 0.4157 - val_accuracy: 0.8095\n",
      "Epoch 15/50\n",
      "118/118 [==============================] - 1397s 12s/step - loss: 0.3924 - accuracy: 0.8232 - val_loss: 0.4138 - val_accuracy: 0.8094\n",
      "Epoch 16/50\n",
      "118/118 [==============================] - 1411s 12s/step - loss: 0.3884 - accuracy: 0.8258 - val_loss: 0.4127 - val_accuracy: 0.8116\n",
      "Epoch 17/50\n",
      "118/118 [==============================] - 1395s 12s/step - loss: 0.3840 - accuracy: 0.8270 - val_loss: 0.4173 - val_accuracy: 0.8097\n",
      "Epoch 18/50\n",
      "118/118 [==============================] - 1403s 12s/step - loss: 0.3810 - accuracy: 0.8293 - val_loss: 0.4133 - val_accuracy: 0.8123\n",
      "Epoch 19/50\n",
      "118/118 [==============================] - 1406s 12s/step - loss: 0.3751 - accuracy: 0.8324 - val_loss: 0.4111 - val_accuracy: 0.8127\n",
      "Epoch 20/50\n",
      "118/118 [==============================] - 1398s 12s/step - loss: 0.3716 - accuracy: 0.8337 - val_loss: 0.4113 - val_accuracy: 0.8143\n",
      "Epoch 21/50\n",
      "118/118 [==============================] - 1416s 12s/step - loss: 0.3668 - accuracy: 0.8355 - val_loss: 0.4078 - val_accuracy: 0.8174\n",
      "Epoch 22/50\n",
      "118/118 [==============================] - 1399s 12s/step - loss: 0.3613 - accuracy: 0.8392 - val_loss: 0.4206 - val_accuracy: 0.8102\n",
      "Epoch 23/50\n",
      "118/118 [==============================] - 1404s 12s/step - loss: 0.3582 - accuracy: 0.8402 - val_loss: 0.4139 - val_accuracy: 0.8137\n",
      "Epoch 24/50\n",
      "118/118 [==============================] - 1405s 12s/step - loss: 0.3541 - accuracy: 0.8415 - val_loss: 0.4197 - val_accuracy: 0.8106\n",
      "Epoch 25/50\n",
      "118/118 [==============================] - 1396s 12s/step - loss: 0.3496 - accuracy: 0.8437 - val_loss: 0.4285 - val_accuracy: 0.8111\n",
      "Epoch 26/50\n",
      "118/118 [==============================] - 1410s 12s/step - loss: 0.3439 - accuracy: 0.8454 - val_loss: 0.4333 - val_accuracy: 0.8142\n"
     ]
    }
   ],
   "source": [
    "batch_size=1000\n",
    "history = model.fit(train_X, train_Y, batch_size=batch_size, epochs=50, validation_data=(test_X, test_Y), callbacks=[early_stopping])"
   ]
  },
  {
   "cell_type": "markdown",
   "id": "8939d6b1",
   "metadata": {},
   "source": [
    "We will save our model in case we would like to load it or it's weight again. "
   ]
  },
  {
   "cell_type": "code",
   "execution_count": 24,
   "id": "ea5c6981",
   "metadata": {},
   "outputs": [],
   "source": [
    "model.save('mod_callback_extra.h5')\n",
    "model.save_weights('callback_extra_weights.h5')"
   ]
  },
  {
   "cell_type": "markdown",
   "id": "ffbceae6",
   "metadata": {},
   "source": [
    "## Model performance"
   ]
  },
  {
   "cell_type": "markdown",
   "id": "da4474f1",
   "metadata": {},
   "source": [
    "Next we will evaluate model performance. We will mainly be looking at test accuracy and loss. "
   ]
  },
  {
   "cell_type": "code",
   "execution_count": 53,
   "id": "8cfa19d2",
   "metadata": {},
   "outputs": [
    {
     "name": "stdout",
     "output_type": "stream",
     "text": [
      "929/929 - 261s - loss: 0.4078 - accuracy: 0.8174 - 261s/epoch - 281ms/step\n",
      "The final model has a test accuracy of: 81.74%\n"
     ]
    }
   ],
   "source": [
    "loss, acc = model.evaluate(test_X, test_Y, verbose = 2)\n",
    "print('The final model has a test accuracy of: {:5.2f}%'.format(100 * acc))"
   ]
  },
  {
   "cell_type": "markdown",
   "id": "7171268d",
   "metadata": {},
   "source": [
    "Finally we will have a look at the history of model accuracy and model loss per epoch using a plot. Accuracy or loss is on the y-axis and number of epochs on the x-axis. "
   ]
  },
  {
   "cell_type": "code",
   "execution_count": 51,
   "id": "77600022",
   "metadata": {},
   "outputs": [
    {
     "data": {
      "image/png": "[encoded data removed]",
      "text/plain": [
       "<Figure size 432x288 with 1 Axes>"
      ]
     },
     "metadata": {
      "needs_background": "light"
     },
     "output_type": "display_data"
    },
    {
     "data": {
      "image/png": "[encoded data removed]",
      "text/plain": [
       "<Figure size 432x288 with 1 Axes>"
      ]
     },
     "metadata": {
      "needs_background": "light"
     },
     "output_type": "display_data"
    }
   ],
   "source": [
    "# accuracy\n",
    "plt.plot(history.history['accuracy'])\n",
    "plt.plot(history.history['val_accuracy'])\n",
    "plt.title('model accuracy')\n",
    "plt.ylabel('accuracy')\n",
    "plt.xlabel('epoch')\n",
    "plt.legend(['train', 'val'], loc='upper left')\n",
    "plt.show()\n",
    "\n",
    "# loss\n",
    "plt.plot(history.history['loss'])\n",
    "plt.plot(history.history['val_loss'])\n",
    "plt.title('model loss')\n",
    "plt.ylabel('loss')\n",
    "plt.xlabel('epoch')\n",
    "plt.legend(['train', 'val'], loc='upper left')\n",
    "plt.show()"
   ]
  },
  {
   "cell_type": "markdown",
   "id": "9a0e521d",
   "metadata": {},
   "source": [
    "As one can see in the accuracy plot, the validation accuracy stagnates after around 20-25 epochs. \n",
    "The loss plot shows almost the same pattern, however, there seems to be a slight increase of validation loss after 20-25 epochs. This might hint at a bit at overfitting."
   ]
  },
  {
   "cell_type": "markdown",
   "id": "4d1b559c",
   "metadata": {},
   "source": [
    "## Additional performance measures"
   ]
  },
  {
   "cell_type": "markdown",
   "id": "f1530873",
   "metadata": {},
   "source": [
    "Next to model evaluation using a test set, we will use our model to predict gender from names we put in ourselves. Code base retrieved from Deepak Babu (2016)."
   ]
  },
  {
   "cell_type": "code",
   "execution_count": 56,
   "id": "cf95c3a7",
   "metadata": {},
   "outputs": [],
   "source": [
    "name=[\"Sophie\", \"Felice\", \"Lisette\", \"Bart\", \"Raoul\", \"Hannes\"]\n",
    "X=[]\n",
    "\n",
    "trunc_name = [i[0:maxlen] for i in name]\n",
    "for i in trunc_name:\n",
    "    tmp = [set_flag(char_index.get(j, [])) for j in str(i)]\n",
    "    for k in range(0,maxlen - len(str(i))):\n",
    "        tmp.append(set_flag(char_index[\"END\"]))\n",
    "    X.append(tmp)\n",
    "    \n",
    "pred=model.predict(np.asarray(X))"
   ]
  },
  {
   "cell_type": "code",
   "execution_count": 46,
   "id": "7a5d3e3e",
   "metadata": {},
   "outputs": [
    {
     "data": {
      "text/plain": [
       "array([[0.26723745, 0.7327626 ],\n",
       "       [0.46749586, 0.53250414],\n",
       "       [0.1011287 , 0.89887136],\n",
       "       [0.75556576, 0.24443418],\n",
       "       [0.5928819 , 0.4071181 ],\n",
       "       [0.7933204 , 0.20667955]], dtype=float32)"
      ]
     },
     "execution_count": 46,
     "metadata": {},
     "output_type": "execute_result"
    }
   ],
   "source": [
    "pred"
   ]
  },
  {
   "cell_type": "markdown",
   "id": "507164fa",
   "metadata": {},
   "source": [
    "We know that Sophie, Felice and Lisette are generally names given to females and Bart, Raoul and Hannes are generally names given to males. \n",
    "\n",
    "Here the model seems to do quite wel, predicting all genders correctly. However, it is more certain of some names than others. It has a bit more issues with 'Felice'. This could potentially be that the name Felice is present in the Dutch language and not in the languages used for model training. "
   ]
  },
  {
   "cell_type": "markdown",
   "id": "c6a45b0d",
   "metadata": {},
   "source": [
    "## Recommendations for future projects"
   ]
  },
  {
   "cell_type": "markdown",
   "id": "98675f30",
   "metadata": {},
   "source": [
    "We have a few recommendations and ideas for projects that could build on our project.\n",
    "\n",
    "For example, our model selection phase is limited, mainly because of time and (computer) resources. Preferably we would like to have the time to use more cross-validation to assess the best model properties. Although an accuracy of 81% is already quite high. Also compared to a project that used a Naive Bayes Classifier for the purpose of predicting gender from name and got an accuracy of 73% (Huang, 2016).\n",
    "\n",
    "Next one could study which names are mainly corrected wrong and see if maybe some of the names are underrepresented in the training set, they are unisex names or something else. Finding the reason behind misclassification could improve accuracy when improving the model.\n",
    "\n",
    "Lastly one could add names from other languages as well to make the model more robust and general."
   ]
  },
  {
   "cell_type": "markdown",
   "id": "0927a08c",
   "metadata": {},
   "source": [
    "## References\n",
    "\n",
    "Huang, R. (2016). Naive Bayes Name-Gender Classifier. Kaggle. URL: https://www.kaggle.com/springboardroger/naive-bayes-name-gender-classifier\n",
    "\n",
    "\n",
    "Deepak Babu, P.R. (2016). Python/Deep learning gender/Deep Learning (RNN - LSTMs) Predict Gender from Name.ipynb. Github. URL: https://github.com/prdeepakbabu/Python/blob/master/Deep%20learning%20gender/Deep%20Learning%20(RNN%20-%20LSTMs)%20Predict%20Gender%20from%20Name.ipynb"
   ]
  }
 ],
 "metadata": {
  "kernelspec": {
   "display_name": "Python 3 (ipykernel)",
   "language": "python",
   "name": "python3"
  },
  "language_info": {
   "codemirror_mode": {
    "name": "ipython",
    "version": 3
   },
   "file_extension": ".py",
   "mimetype": "text/x-python",
   "name": "python",
   "nbconvert_exporter": "python",
   "pygments_lexer": "ipython3",
   "version": "3.9.7"
  }
 },
 "nbformat": 4,
 "nbformat_minor": 5
}
